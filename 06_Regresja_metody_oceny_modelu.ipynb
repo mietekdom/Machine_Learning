{
  "nbformat": 4,
  "nbformat_minor": 0,
  "metadata": {
    "colab": {
      "name": "30_Regresja_metody_oceny_modelu.ipynb",
      "provenance": [],
      "collapsed_sections": [],
      "authorship_tag": "ABX9TyM4CN179Etu+shFLNfxRKJo",
      "include_colab_link": true
    },
    "kernelspec": {
      "name": "python3",
      "display_name": "Python 3"
    }
  },
  "cells": [
    {
      "cell_type": "markdown",
      "metadata": {
        "id": "view-in-github",
        "colab_type": "text"
      },
      "source": [
        "<a href=\"https://colab.research.google.com/github/mietekdom/Machine_Learning/blob/main/06_Regresja_metody_oceny_modelu.ipynb\" target=\"_parent\"><img src=\"https://colab.research.google.com/assets/colab-badge.svg\" alt=\"Open In Colab\"/></a>"
      ]
    },
    {
      "cell_type": "code",
      "metadata": {
        "id": "xkp5s9HIk84g"
      },
      "source": [
        "import numpy as np\n",
        "import pandas as pd\n",
        "import plotly.express as px\n",
        "import plotly.graph_objects as go"
      ],
      "execution_count": 1,
      "outputs": []
    },
    {
      "cell_type": "code",
      "metadata": {
        "id": "KG1535pclItt",
        "outputId": "6afdf2d2-b2d9-417c-e59a-dc6805b0bd84",
        "colab": {
          "base_uri": "https://localhost:8080/"
        }
      },
      "source": [
        "y_true = 100 + 20 * np.random.randn(50)\n",
        "y_true"
      ],
      "execution_count": 2,
      "outputs": [
        {
          "output_type": "execute_result",
          "data": {
            "text/plain": [
              "array([118.94202572,  95.62934102,  93.87301506, 108.9198665 ,\n",
              "       125.31046432,  83.48233063, 111.11099876,  73.45488155,\n",
              "       126.91258651,  96.58074501,  90.16129479,  85.08068364,\n",
              "       127.75409916,  95.82458627, 110.5139483 , 126.21632359,\n",
              "       101.52611219, 117.31165595,  75.07104003, 116.00908256,\n",
              "       106.55262638,  82.85427754, 153.06942997, 112.33607494,\n",
              "        88.00320963,  80.54158063,  68.00739982, 103.6751272 ,\n",
              "        77.11799284, 111.03431903, 117.4956971 , 117.66051391,\n",
              "       100.3758866 , 111.76665721, 104.89418778, 101.45306152,\n",
              "       101.10101955, 108.56241205,  87.06964153, 115.71063647,\n",
              "       112.20067863,  93.3894154 , 107.7566489 , 107.35973572,\n",
              "        89.00306595,  66.82576819,  81.00901352, 105.57625535,\n",
              "        96.0074957 , 125.09687635])"
            ]
          },
          "metadata": {
            "tags": []
          },
          "execution_count": 2
        }
      ]
    },
    {
      "cell_type": "code",
      "metadata": {
        "id": "pN05PzFSlM7w",
        "outputId": "480cd158-38a8-4b70-942f-3ad870bfe7fa",
        "colab": {
          "base_uri": "https://localhost:8080/"
        }
      },
      "source": [
        "y_pred = y_true + 10 * np.random.randn(50)\n",
        "y_pred"
      ],
      "execution_count": 3,
      "outputs": [
        {
          "output_type": "execute_result",
          "data": {
            "text/plain": [
              "array([107.32949871,  82.9929695 , 100.24637979, 110.63274787,\n",
              "       131.59975161,  93.05656984, 109.41813169,  76.06441172,\n",
              "       126.62606681,  94.17029763,  81.13368097,  94.08928075,\n",
              "       119.10673947, 108.92214478, 111.03454816, 119.93582159,\n",
              "       105.78234618, 118.09956618,  67.21473805, 106.70845569,\n",
              "        93.32522038,  55.2671704 , 159.86083768, 112.91055681,\n",
              "        98.44167914,  90.5078977 ,  59.20651466,  97.09961242,\n",
              "        69.53679074, 101.04187563, 109.69976641, 103.47198665,\n",
              "        93.2542716 , 110.29231907,  88.46186284,  94.74809539,\n",
              "       100.68085947, 111.95009254,  81.24507024, 140.59399021,\n",
              "       114.43327408,  89.25050937,  97.78409951, 100.53571703,\n",
              "        84.67697476,  64.24199506,  80.84327153, 103.16866617,\n",
              "        84.12059524, 111.71143706])"
            ]
          },
          "metadata": {
            "tags": []
          },
          "execution_count": 3
        }
      ]
    },
    {
      "cell_type": "code",
      "metadata": {
        "id": "Dhlos11ClR3z",
        "outputId": "f6abd593-98c8-4917-f078-0313e28656db",
        "colab": {
          "base_uri": "https://localhost:8080/",
          "height": 206
        }
      },
      "source": [
        "results = pd.DataFrame({'y_true': y_true, 'y_pred': y_pred})\n",
        "results.head()"
      ],
      "execution_count": 4,
      "outputs": [
        {
          "output_type": "execute_result",
          "data": {
            "text/html": [
              "<div>\n",
              "<style scoped>\n",
              "    .dataframe tbody tr th:only-of-type {\n",
              "        vertical-align: middle;\n",
              "    }\n",
              "\n",
              "    .dataframe tbody tr th {\n",
              "        vertical-align: top;\n",
              "    }\n",
              "\n",
              "    .dataframe thead th {\n",
              "        text-align: right;\n",
              "    }\n",
              "</style>\n",
              "<table border=\"1\" class=\"dataframe\">\n",
              "  <thead>\n",
              "    <tr style=\"text-align: right;\">\n",
              "      <th></th>\n",
              "      <th>y_true</th>\n",
              "      <th>y_pred</th>\n",
              "    </tr>\n",
              "  </thead>\n",
              "  <tbody>\n",
              "    <tr>\n",
              "      <th>0</th>\n",
              "      <td>118.942026</td>\n",
              "      <td>107.329499</td>\n",
              "    </tr>\n",
              "    <tr>\n",
              "      <th>1</th>\n",
              "      <td>95.629341</td>\n",
              "      <td>82.992970</td>\n",
              "    </tr>\n",
              "    <tr>\n",
              "      <th>2</th>\n",
              "      <td>93.873015</td>\n",
              "      <td>100.246380</td>\n",
              "    </tr>\n",
              "    <tr>\n",
              "      <th>3</th>\n",
              "      <td>108.919867</td>\n",
              "      <td>110.632748</td>\n",
              "    </tr>\n",
              "    <tr>\n",
              "      <th>4</th>\n",
              "      <td>125.310464</td>\n",
              "      <td>131.599752</td>\n",
              "    </tr>\n",
              "  </tbody>\n",
              "</table>\n",
              "</div>"
            ],
            "text/plain": [
              "       y_true      y_pred\n",
              "0  118.942026  107.329499\n",
              "1   95.629341   82.992970\n",
              "2   93.873015  100.246380\n",
              "3  108.919867  110.632748\n",
              "4  125.310464  131.599752"
            ]
          },
          "metadata": {
            "tags": []
          },
          "execution_count": 4
        }
      ]
    }
  ]
}